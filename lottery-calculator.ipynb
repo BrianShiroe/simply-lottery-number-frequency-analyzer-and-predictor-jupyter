{
 "cells": [
  {
   "cell_type": "markdown",
   "metadata": {},
   "source": [
    "# convert_txt_to_csv"
   ]
  },
  {
   "cell_type": "code",
   "execution_count": 1,
   "metadata": {},
   "outputs": [],
   "source": [
    "import csv\n",
    "import re\n",
    "from datetime import datetime\n",
    "\n",
    "def convert_txt_to_csv(input_file, output_file):\n",
    "    month_mapping = {\n",
    "        \"January\": \"Jan\", \"February\": \"Feb\", \"March\": \"Mar\", \"April\": \"Apr\", \"May\": \"May\", \"June\": \"Jun\", \n",
    "        \"July\": \"Jul\", \"August\": \"Aug\", \"September\": \"Sep\", \"October\": \"Oct\", \"November\": \"Nov\", \"December\": \"Dec\"\n",
    "    }\n",
    "    \n",
    "    with open(input_file, 'r') as infile, open(output_file, 'w', newline='') as outfile:\n",
    "        writer = csv.writer(outfile)\n",
    "        writer.writerow([\"Date\", \"Value1\", \"Value2\", \"Value3\"])  # Writing header\n",
    "        \n",
    "        for line in infile:\n",
    "            line = line.strip()\n",
    "            if not line:\n",
    "                continue  # Skip empty lines\n",
    "            \n",
    "            parts = re.split(r'\\t+', line)  # Split using tab(s)\n",
    "            date_str = parts[0]\n",
    "            values = parts[1:]\n",
    "            \n",
    "            # Normalize month format\n",
    "            for full, short in month_mapping.items():\n",
    "                if full in date_str:\n",
    "                    date_str = date_str.replace(full, short)\n",
    "                    break\n",
    "            \n",
    "            # Handle different date formats\n",
    "            try:\n",
    "                date_obj = datetime.strptime(date_str, \"%b %d, %Y\")\n",
    "            except ValueError:\n",
    "                date_obj = datetime.strptime(date_str, \"%b %d %Y\")\n",
    "            \n",
    "            formatted_date = date_obj.strftime(\"%d-%m-%Y\")\n",
    "            \n",
    "            writer.writerow([formatted_date] + values)\n",
    "\n",
    "# Usage\n",
    "convert_txt_to_csv(\"data.txt\", \"data.csv\")"
   ]
  },
  {
   "cell_type": "markdown",
   "metadata": {},
   "source": [
    "# clean_cs"
   ]
  },
  {
   "cell_type": "code",
   "execution_count": 2,
   "metadata": {},
   "outputs": [],
   "source": [
    "import csv\n",
    "from dateutil import parser\n",
    "\n",
    "def clean_csv(input_file, output_file):\n",
    "    with open(input_file, 'r', newline='') as infile, open(output_file, 'w', newline='') as outfile:\n",
    "        reader = csv.reader(infile)\n",
    "        writer = csv.writer(outfile)\n",
    "\n",
    "        header = next(reader)  # Read and write the header\n",
    "        writer.writerow(header)\n",
    "\n",
    "        for row in reader:\n",
    "            # Check if all values (except date) are \"-\" or \"–\"\n",
    "            if all(val.strip() in [\"-\", \"–\"] for val in row[1:]):\n",
    "                continue  # Skip this row\n",
    "            \n",
    "            # Format values to ensure single digits have a leading zero\n",
    "            formatted_row = [row[0]]  # Keep the date as is\n",
    "            for value in row[1:]:\n",
    "                parts = value.split('-')\n",
    "                formatted_value = \"-\".join(f\"{int(part):02d}\" for part in parts)  # Ensure 2-digit format\n",
    "                formatted_row.append(formatted_value)\n",
    "            \n",
    "            writer.writerow(formatted_row)\n",
    "\n",
    "# Usage\n",
    "clean_csv(\"data.csv\", \"cleaned_data.csv\")"
   ]
  },
  {
   "cell_type": "markdown",
   "metadata": {},
   "source": [
    "# analyze_all_time"
   ]
  },
  {
   "cell_type": "code",
   "execution_count": 3,
   "metadata": {},
   "outputs": [
    {
     "name": "stdout",
     "output_type": "stream",
     "text": [
      "Predicted next numbers: ['12', '09', '16', '21', '07']\n",
      "Top 10 most frequent numbers of all time:\n",
      "12: 3.68%\n",
      "09: 3.62%\n",
      "16: 3.62%\n",
      "21: 3.60%\n",
      "07: 3.53%\n",
      "03: 3.51%\n",
      "19: 3.45%\n",
      "25: 3.43%\n",
      "20: 3.43%\n",
      "31: 3.41%\n"
     ]
    }
   ],
   "source": [
    "import pandas as pd\n",
    "from collections import Counter\n",
    "import random\n",
    "\n",
    "# Load the CSV file\n",
    "df = pd.read_csv(\"cleaned_data.csv\")\n",
    "\n",
    "# Flatten the values (excluding the Date column)\n",
    "all_numbers = []\n",
    "for col in df.columns[1:]:  # Skip the Date column\n",
    "    for values in df[col].astype(str).str.split('-'):\n",
    "        all_numbers.extend(values)\n",
    "\n",
    "# Count occurrences of each number\n",
    "counter = Counter(all_numbers)\n",
    "total_occurrences = sum(counter.values())\n",
    "\n",
    "# Calculate percentage appearance\n",
    "percentage_dict = {num: (count / total_occurrences) * 100 for num, count in counter.items()}\n",
    "\n",
    "# Sort by percentage (highest to lowest)\n",
    "sorted_percentages = sorted(percentage_dict.items(), key=lambda x: x[1], reverse=True)\n",
    "\n",
    "# Predict the next likely numbers based on highest probabilities\n",
    "predicted_numbers = [num for num, _ in sorted_percentages[:5]]  # Top 5 predictions\n",
    "\n",
    "# Display results\n",
    "print(\"Predicted next numbers:\", predicted_numbers)\n",
    "\n",
    "# Show only the top 10 numbers\n",
    "print(\"Top 10 most frequent numbers of all time:\")\n",
    "for num, percentage in sorted_percentages[:10]:\n",
    "    print(f\"{num}: {percentage:.2f}%\")"
   ]
  },
  {
   "cell_type": "markdown",
   "metadata": {},
   "source": [
    "# analyze_last_90_days"
   ]
  },
  {
   "cell_type": "code",
   "execution_count": 6,
   "metadata": {},
   "outputs": [
    {
     "name": "stdout",
     "output_type": "stream",
     "text": [
      "Top 5 numbers with the highest probability to be picked next (last 90 days): [7, 25, 29, 9, 1]\n"
     ]
    }
   ],
   "source": [
    "import pandas as pd\n",
    "from collections import Counter\n",
    "from datetime import datetime, timedelta\n",
    "\n",
    "days = 90\n",
    "\n",
    "# Load the CSV file\n",
    "df = pd.read_csv(\"cleaned_data.csv\")\n",
    "\n",
    "# Convert the 'Date' column to datetime format\n",
    "df['Date'] = pd.to_datetime(df['Date'], format='%d-%m-%Y')\n",
    "\n",
    "# Get the current date (or the latest date in the dataset)\n",
    "current_date = df['Date'].max()\n",
    "\n",
    "# Calculate the date 3 months ago\n",
    "three_months_ago = current_date - timedelta(days)\n",
    "\n",
    "# Filter the dataset to include only the last 3 months\n",
    "filtered_df = df[df['Date'] >= three_months_ago]\n",
    "\n",
    "# Combine all values into a single list\n",
    "all_values = filtered_df['Value1'].tolist() + filtered_df['Value2'].tolist() + filtered_df['Value3'].tolist()\n",
    "\n",
    "# Split the values into individual numbers\n",
    "all_numbers = []\n",
    "for value in all_values:\n",
    "    all_numbers.extend(value.split('-'))\n",
    "\n",
    "# Convert the numbers to integers\n",
    "all_numbers = [int(num) for num in all_numbers]\n",
    "\n",
    "# Count the frequency of each number\n",
    "number_frequency = Counter(all_numbers)\n",
    "\n",
    "# Sort the numbers by frequency in descending order\n",
    "sorted_numbers = sorted(number_frequency.items(), key=lambda x: x[1], reverse=True)\n",
    "\n",
    "# Predict the top N numbers with the highest probability\n",
    "top_n = 5  # Change this value to get more or fewer predictions\n",
    "predicted_numbers = [num for num, freq in sorted_numbers[:top_n]]\n",
    "\n",
    "print(f\"Top {top_n} numbers with the highest probability to be picked next (last {days} days): {predicted_numbers}\")"
   ]
  }
 ],
 "metadata": {
  "kernelspec": {
   "display_name": "base",
   "language": "python",
   "name": "python3"
  },
  "language_info": {
   "codemirror_mode": {
    "name": "ipython",
    "version": 3
   },
   "file_extension": ".py",
   "mimetype": "text/x-python",
   "name": "python",
   "nbconvert_exporter": "python",
   "pygments_lexer": "ipython3",
   "version": "3.12.7"
  }
 },
 "nbformat": 4,
 "nbformat_minor": 2
}
